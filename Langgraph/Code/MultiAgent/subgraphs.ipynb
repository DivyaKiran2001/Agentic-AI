{
 "cells": [
  {
   "cell_type": "code",
   "execution_count": null,
   "metadata": {},
   "outputs": [
    {
     "ename": "NameError",
     "evalue": "name 'add_messages' is not defined",
     "output_type": "error",
     "traceback": [
      "\u001b[31m---------------------------------------------------------------------------\u001b[39m",
      "\u001b[31mNameError\u001b[39m                                 Traceback (most recent call last)",
      "\u001b[36mCell\u001b[39m\u001b[36m \u001b[39m\u001b[32mIn[2]\u001b[39m\u001b[32m, line 11\u001b[39m\n\u001b[32m      7\u001b[39m \u001b[38;5;28;01mfrom\u001b[39;00m\u001b[38;5;250m \u001b[39m\u001b[34;01mdotenv\u001b[39;00m\u001b[38;5;250m \u001b[39m\u001b[38;5;28;01mimport\u001b[39;00m load_dotenv\n\u001b[32m      9\u001b[39m load_dotenv()\n\u001b[32m---> \u001b[39m\u001b[32m11\u001b[39m \u001b[38;5;28;43;01mclass\u001b[39;49;00m\u001b[38;5;250;43m \u001b[39;49m\u001b[34;43;01mChildState\u001b[39;49;00m\u001b[43m(\u001b[49m\u001b[43mTypedDict\u001b[49m\u001b[43m)\u001b[49m\u001b[43m:\u001b[49m\n\u001b[32m     12\u001b[39m \u001b[43m    \u001b[49m\u001b[43mmessages\u001b[49m\u001b[43m \u001b[49m\u001b[43m:\u001b[49m\u001b[43m \u001b[49m\u001b[43mAnnotated\u001b[49m\u001b[43m[\u001b[49m\u001b[38;5;28;43mlist\u001b[39;49m\u001b[43m,\u001b[49m\u001b[43madd_messages\u001b[49m\u001b[43m]\u001b[49m\n\u001b[32m     14\u001b[39m search_tool = TavilySearchResults(max_results=\u001b[32m2\u001b[39m)\n",
      "\u001b[36mCell\u001b[39m\u001b[36m \u001b[39m\u001b[32mIn[2]\u001b[39m\u001b[32m, line 12\u001b[39m, in \u001b[36mChildState\u001b[39m\u001b[34m()\u001b[39m\n\u001b[32m     11\u001b[39m \u001b[38;5;28;01mclass\u001b[39;00m\u001b[38;5;250m \u001b[39m\u001b[34;01mChildState\u001b[39;00m(TypedDict):\n\u001b[32m---> \u001b[39m\u001b[32m12\u001b[39m     messages : Annotated[\u001b[38;5;28mlist\u001b[39m,\u001b[43madd_messages\u001b[49m]\n",
      "\u001b[31mNameError\u001b[39m: name 'add_messages' is not defined"
     ]
    }
   ],
   "source": [
    "from typing import TypedDict,Annotated\n",
    "from langgraph.graph import END, StateGraph, START,add_messages\n",
    "from langchain_google_genai import ChatGoogleGenerativeAI\n",
    "from langchain_core.messages import HumanMessage,AIMessage\n",
    "from langchain_community.tools.tavily_search import TavilySearchResults\n",
    "from langgraph.prebuilt import ToolNode\n",
    "from dotenv import load_dotenv\n",
    "\n",
    "load_dotenv()\n",
    "\n",
    "class ChildState(TypedDict):\n",
    "    messages : Annotated[list,add_messages]\n",
    "\n",
    "search_tool = TavilySearchResults(max_results=2)\n",
    "tools = [search_tool]\n",
    "\n",
    "llm=ChatGoogleGenerativeAI(model=\"gemini-1.5-pro\")\n",
    "llm_with_tools = llm.bind_tools(tools=tools)\n",
    "\n",
    "def agent(state:ChildState):\n",
    "    return {\n",
    "        \"messages\":[llm_with_tools.invoke(state[\"messages\"])],\n",
    "    }\n",
    "\n",
    "def tools_router(state:ChildState):\n",
    "    last_message = state[\"messages\"][-1]\n",
    "\n",
    "    if(hasattr(last_message,\"tool_calls\") and len(last_message.tool_calls)>0):\n",
    "        return \"tool_node\"\n",
    "    else:\n",
    "        return END\n",
    "    \n",
    "tool_node = ToolNode(tools=tools)\n",
    "\n",
    "subgraph = StateGraph(ChildState)\n",
    "\n",
    "subgraph.add_node(\"agent\",agent)\n",
    "subgraph.add_node(\"tool_node\",tool_node)\n",
    "subgraph.set_entry_point(\"agent\")\n",
    "\n",
    "subgraph.add_conditional_edges(\"agent\",tools_router)\n",
    "subgraph.add_edge(\"tool_node\",\"agent\")\n",
    "\n",
    "search_app=subgraph.compile()\n",
    "\n",
    "\n",
    "\n"
   ]
  },
  {
   "cell_type": "code",
   "execution_count": null,
   "metadata": {},
   "outputs": [],
   "source": []
  }
 ],
 "metadata": {
  "kernelspec": {
   "display_name": "venv",
   "language": "python",
   "name": "python3"
  },
  "language_info": {
   "codemirror_mode": {
    "name": "ipython",
    "version": 3
   },
   "file_extension": ".py",
   "mimetype": "text/x-python",
   "name": "python",
   "nbconvert_exporter": "python",
   "pygments_lexer": "ipython3",
   "version": "3.13.1"
  }
 },
 "nbformat": 4,
 "nbformat_minor": 2
}
